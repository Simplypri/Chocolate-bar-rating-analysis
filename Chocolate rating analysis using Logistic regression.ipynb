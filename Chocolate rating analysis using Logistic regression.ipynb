{
 "cells": [
  {
   "cell_type": "code",
   "execution_count": null,
   "metadata": {},
   "outputs": [],
   "source": [
    "Acknowledgements\n",
    "These ratings were compiled by Brady Brelinski, Founding Member of the Manhattan Chocolate Society. Please see his website: Flavors of Cacao\n",
    "\n",
    "Chocolate is one of the most popular candies in the world. Each year, residents of the United States collectively eat more than 2.8 billion pounds. However, not all chocolate bars are created equal! This dataset contains expert ratings of over 1,700 individual chocolate bars, along with information on their regional origin, percentage of cocoa, the variety of chocolate bean used, and where the beans were grown.\n",
    "\n",
    "Cadbury Ratings:\n",
    "Rating Scale\n",
    "\n",
    "4.0 - 5.0 = Outstanding\n",
    "3.5 - 3.9 = Highly Recommended\n",
    "3.0 - 3.49 = Recommended\n",
    "2.0 - 2.9 = Disappointing\n",
    "1.0 - 1.9 = Unpleasant\n",
    "\n",
    "*Not all the bars in each range are considered equal, so to show variance from bars in the same range I have assigned .25, .50 or .75.\n",
    "\n",
    "Each chocolate is evaluated from a combination of both objective qualities and subjective interpretation. A rating here only represents an experience with one bar from one batch. Batch numbers, vintages, and review dates are included in the database when known.\n",
    "\n",
    "The database is narrowly focused on plain dark chocolate to appreciate the flavors of the cacao when made into chocolate. The ratings do not reflect health benefits, social missions, or organic status.\n",
    "\n",
    "The flavor is the most important component of the Flavors of Cacao ratings. Diversity, balance, intensity, and purity of flavors are all considered. A straight forward single note chocolate can rate as high as a complex flavor profile that changes throughout. Genetics, terroir, post-harvest techniques, processing, and storage can all be discussed when considering the flavor component.\n",
    "\n",
    "Texture has a great impact on the overall experience and it is also possible for texture related issues to impact flavor. It is a good way to evaluate the makers' vision, attention to detail, and level of proficiency.\n",
    "\n",
    "Aftermelt is the experience after the chocolate has melted. Higher quality chocolate will linger and be long-lasting and enjoyable. Since the after melt is the last impression you get from the chocolate, it receives equal importance in the overall rating.\n",
    "\n",
    "To find:\n",
    "\n",
    "Where are the best cocoa beans grown?\n",
    "Who creates the best Chocolate bars?\n",
    "What is Favorite taste?\n",
    "Which company has highest Rate?\n",
    "How to increase the demand for this company?"
   ]
  },
  {
   "cell_type": "markdown",
   "metadata": {},
   "source": [
    "## Variable Descriptions"
   ]
  },
  {
   "cell_type": "code",
   "execution_count": null,
   "metadata": {},
   "outputs": [],
   "source": [
    "Variable                         Description\n",
    "Index\n",
    "ref                               Unique number of the company\n",
    "company                           Comapny Name\n",
    "company_location                  company location\n",
    "review_date                       date of review of chocolate bar\n",
    "country_of_bean_origin            country of chocolate bean\n",
    "specific_bean_origin_or_bar_name  province of chocolate bean\n",
    "cocoa_percent                     percentage of chocolate bar\n",
    "rating                            chocolate bar rating\n",
    "counts_of_ingredients             number of ingredients\n",
    "beans                             have bean or not\n",
    "cocoa_butter                      have cocoa butter or not\n",
    "vanilla                           have vanilla or not\n",
    "lecithin                          have lecithin or not\n",
    "salt                              have salt or not\n",
    "sugar                             have sugar or not\n",
    "sweetener_without_sugar           have sweetener or not\n",
    "first_taste                       taste number one\n",
    "second_taste                      taste number two\n",
    "third_taste                       taste number three\n",
    "fourth_taste                      taste number four"
   ]
  },
  {
   "cell_type": "markdown",
   "metadata": {},
   "source": [
    "### Importing essential libraries"
   ]
  },
  {
   "cell_type": "code",
   "execution_count": 114,
   "metadata": {},
   "outputs": [],
   "source": [
    "import pandas as pd\n",
    "import numpy as np\n",
    "import matplotlib.pyplot as plt\n",
    "import seaborn as sns\n",
    "from sklearn import preprocessing\n",
    "from sklearn.preprocessing import LabelEncoder"
   ]
  },
  {
   "cell_type": "code",
   "execution_count": 50,
   "metadata": {},
   "outputs": [
    {
     "data": {
      "text/html": [
       "<div>\n",
       "<style scoped>\n",
       "    .dataframe tbody tr th:only-of-type {\n",
       "        vertical-align: middle;\n",
       "    }\n",
       "\n",
       "    .dataframe tbody tr th {\n",
       "        vertical-align: top;\n",
       "    }\n",
       "\n",
       "    .dataframe thead th {\n",
       "        text-align: right;\n",
       "    }\n",
       "</style>\n",
       "<table border=\"1\" class=\"dataframe\">\n",
       "  <thead>\n",
       "    <tr style=\"text-align: right;\">\n",
       "      <th></th>\n",
       "      <th>Index</th>\n",
       "      <th>ref</th>\n",
       "      <th>company</th>\n",
       "      <th>company_location</th>\n",
       "      <th>review_date</th>\n",
       "      <th>country_of_bean_origin</th>\n",
       "      <th>specific_bean_origin_or_bar_name</th>\n",
       "      <th>cocoa_percent</th>\n",
       "      <th>counts_of_ingredients</th>\n",
       "      <th>beans</th>\n",
       "      <th>...</th>\n",
       "      <th>lecithin</th>\n",
       "      <th>salt</th>\n",
       "      <th>sugar</th>\n",
       "      <th>sweetener_without_sugar</th>\n",
       "      <th>first_taste</th>\n",
       "      <th>second_taste</th>\n",
       "      <th>third_taste</th>\n",
       "      <th>fourth_taste</th>\n",
       "      <th>rating</th>\n",
       "      <th>value_rating</th>\n",
       "    </tr>\n",
       "  </thead>\n",
       "  <tbody>\n",
       "    <tr>\n",
       "      <th>0</th>\n",
       "      <td>1</td>\n",
       "      <td>2486</td>\n",
       "      <td>Maverick</td>\n",
       "      <td>U.S.A</td>\n",
       "      <td>2020</td>\n",
       "      <td>Vietnam</td>\n",
       "      <td>Dak Nong, Marou Cacao</td>\n",
       "      <td>75.0</td>\n",
       "      <td>3</td>\n",
       "      <td>have_bean</td>\n",
       "      <td>...</td>\n",
       "      <td>have_not_lecithin</td>\n",
       "      <td>have_not_salt</td>\n",
       "      <td>have_sugar</td>\n",
       "      <td>have_not_sweetener_without_sugar</td>\n",
       "      <td>roasty</td>\n",
       "      <td>hammy</td>\n",
       "      <td>dirty</td>\n",
       "      <td>NaN</td>\n",
       "      <td>high</td>\n",
       "      <td>3.00</td>\n",
       "    </tr>\n",
       "    <tr>\n",
       "      <th>1</th>\n",
       "      <td>2</td>\n",
       "      <td>2486</td>\n",
       "      <td>Nuance</td>\n",
       "      <td>U.S.A</td>\n",
       "      <td>2020</td>\n",
       "      <td>Vietnam</td>\n",
       "      <td>Lam Dong, 2016 h., batch 20111</td>\n",
       "      <td>70.0</td>\n",
       "      <td>3</td>\n",
       "      <td>have_bean</td>\n",
       "      <td>...</td>\n",
       "      <td>have_not_lecithin</td>\n",
       "      <td>have_not_salt</td>\n",
       "      <td>have_sugar</td>\n",
       "      <td>have_not_sweetener_without_sugar</td>\n",
       "      <td>spicy</td>\n",
       "      <td>cocoa</td>\n",
       "      <td>hammy</td>\n",
       "      <td>NaN</td>\n",
       "      <td>high</td>\n",
       "      <td>3.25</td>\n",
       "    </tr>\n",
       "    <tr>\n",
       "      <th>2</th>\n",
       "      <td>3</td>\n",
       "      <td>2486</td>\n",
       "      <td>Nuance</td>\n",
       "      <td>U.S.A</td>\n",
       "      <td>2020</td>\n",
       "      <td>Nigeria</td>\n",
       "      <td>Akwa Ibom, 2017 h., batch 19762</td>\n",
       "      <td>70.0</td>\n",
       "      <td>3</td>\n",
       "      <td>have_bean</td>\n",
       "      <td>...</td>\n",
       "      <td>have_not_lecithin</td>\n",
       "      <td>have_not_salt</td>\n",
       "      <td>have_sugar</td>\n",
       "      <td>have_not_sweetener_without_sugar</td>\n",
       "      <td>cocoa</td>\n",
       "      <td>nut</td>\n",
       "      <td>dried fruit</td>\n",
       "      <td>rubbery</td>\n",
       "      <td>high</td>\n",
       "      <td>3.00</td>\n",
       "    </tr>\n",
       "    <tr>\n",
       "      <th>3</th>\n",
       "      <td>4</td>\n",
       "      <td>2482</td>\n",
       "      <td>Maverick</td>\n",
       "      <td>U.S.A</td>\n",
       "      <td>2020</td>\n",
       "      <td>Madagascar</td>\n",
       "      <td>Akesson P., Sambirano</td>\n",
       "      <td>65.0</td>\n",
       "      <td>3</td>\n",
       "      <td>have_bean</td>\n",
       "      <td>...</td>\n",
       "      <td>have_not_lecithin</td>\n",
       "      <td>have_not_salt</td>\n",
       "      <td>have_sugar</td>\n",
       "      <td>have_not_sweetener_without_sugar</td>\n",
       "      <td>sweet edge</td>\n",
       "      <td>sour fruit</td>\n",
       "      <td>NaN</td>\n",
       "      <td>NaN</td>\n",
       "      <td>high</td>\n",
       "      <td>3.25</td>\n",
       "    </tr>\n",
       "    <tr>\n",
       "      <th>4</th>\n",
       "      <td>5</td>\n",
       "      <td>2482</td>\n",
       "      <td>Maverick</td>\n",
       "      <td>U.S.A</td>\n",
       "      <td>2020</td>\n",
       "      <td>U.s.a.</td>\n",
       "      <td>Hawai'i Island, Big Island, Mauna Kea</td>\n",
       "      <td>70.0</td>\n",
       "      <td>3</td>\n",
       "      <td>have_bean</td>\n",
       "      <td>...</td>\n",
       "      <td>have_not_lecithin</td>\n",
       "      <td>have_not_salt</td>\n",
       "      <td>have_sugar</td>\n",
       "      <td>have_not_sweetener_without_sugar</td>\n",
       "      <td>nutty</td>\n",
       "      <td>cheese</td>\n",
       "      <td>savory</td>\n",
       "      <td>NaN</td>\n",
       "      <td>high</td>\n",
       "      <td>3.00</td>\n",
       "    </tr>\n",
       "  </tbody>\n",
       "</table>\n",
       "<p>5 rows × 22 columns</p>\n",
       "</div>"
      ],
      "text/plain": [
       "   Index   ref   company company_location  review_date country_of_bean_origin  \\\n",
       "0      1  2486  Maverick            U.S.A         2020                Vietnam   \n",
       "1      2  2486    Nuance            U.S.A         2020                Vietnam   \n",
       "2      3  2486    Nuance            U.S.A         2020                Nigeria   \n",
       "3      4  2482  Maverick            U.S.A         2020             Madagascar   \n",
       "4      5  2482  Maverick            U.S.A         2020                 U.s.a.   \n",
       "\n",
       "        specific_bean_origin_or_bar_name  cocoa_percent  \\\n",
       "0                  Dak Nong, Marou Cacao           75.0   \n",
       "1         Lam Dong, 2016 h., batch 20111           70.0   \n",
       "2        Akwa Ibom, 2017 h., batch 19762           70.0   \n",
       "3                  Akesson P., Sambirano           65.0   \n",
       "4  Hawai'i Island, Big Island, Mauna Kea           70.0   \n",
       "\n",
       "   counts_of_ingredients      beans  ...           lecithin           salt  \\\n",
       "0                      3  have_bean  ...  have_not_lecithin  have_not_salt   \n",
       "1                      3  have_bean  ...  have_not_lecithin  have_not_salt   \n",
       "2                      3  have_bean  ...  have_not_lecithin  have_not_salt   \n",
       "3                      3  have_bean  ...  have_not_lecithin  have_not_salt   \n",
       "4                      3  have_bean  ...  have_not_lecithin  have_not_salt   \n",
       "\n",
       "        sugar           sweetener_without_sugar first_taste second_taste  \\\n",
       "0  have_sugar  have_not_sweetener_without_sugar      roasty        hammy   \n",
       "1  have_sugar  have_not_sweetener_without_sugar       spicy        cocoa   \n",
       "2  have_sugar  have_not_sweetener_without_sugar       cocoa          nut   \n",
       "3  have_sugar  have_not_sweetener_without_sugar  sweet edge   sour fruit   \n",
       "4  have_sugar  have_not_sweetener_without_sugar       nutty       cheese   \n",
       "\n",
       "   third_taste fourth_taste rating value_rating  \n",
       "0        dirty          NaN   high         3.00  \n",
       "1        hammy          NaN   high         3.25  \n",
       "2  dried fruit      rubbery   high         3.00  \n",
       "3          NaN          NaN   high         3.25  \n",
       "4       savory          NaN   high         3.00  \n",
       "\n",
       "[5 rows x 22 columns]"
      ]
     },
     "execution_count": 50,
     "metadata": {},
     "output_type": "execute_result"
    }
   ],
   "source": [
    "df = pd.read_csv('C:\\\\Users\\\\priya\\\\Desktop\\\\intro to datascience\\\\Datasets\\\\Chocolate\\\\chocolate data.csv')\n",
    "df.head()"
   ]
  },
  {
   "cell_type": "markdown",
   "metadata": {},
   "source": [
    "### Exploratory Data Analysis"
   ]
  },
  {
   "cell_type": "code",
   "execution_count": 51,
   "metadata": {
    "scrolled": true
   },
   "outputs": [
    {
     "data": {
      "text/html": [
       "<div>\n",
       "<style scoped>\n",
       "    .dataframe tbody tr th:only-of-type {\n",
       "        vertical-align: middle;\n",
       "    }\n",
       "\n",
       "    .dataframe tbody tr th {\n",
       "        vertical-align: top;\n",
       "    }\n",
       "\n",
       "    .dataframe thead th {\n",
       "        text-align: right;\n",
       "    }\n",
       "</style>\n",
       "<table border=\"1\" class=\"dataframe\">\n",
       "  <thead>\n",
       "    <tr style=\"text-align: right;\">\n",
       "      <th></th>\n",
       "      <th>count</th>\n",
       "      <th>unique</th>\n",
       "      <th>top</th>\n",
       "      <th>freq</th>\n",
       "      <th>mean</th>\n",
       "      <th>std</th>\n",
       "      <th>min</th>\n",
       "      <th>25%</th>\n",
       "      <th>50%</th>\n",
       "      <th>75%</th>\n",
       "      <th>max</th>\n",
       "    </tr>\n",
       "  </thead>\n",
       "  <tbody>\n",
       "    <tr>\n",
       "      <th>Index</th>\n",
       "      <td>948</td>\n",
       "      <td>NaN</td>\n",
       "      <td>NaN</td>\n",
       "      <td>NaN</td>\n",
       "      <td>474.5</td>\n",
       "      <td>273.808</td>\n",
       "      <td>1</td>\n",
       "      <td>237.75</td>\n",
       "      <td>474.5</td>\n",
       "      <td>711.25</td>\n",
       "      <td>948</td>\n",
       "    </tr>\n",
       "    <tr>\n",
       "      <th>ref</th>\n",
       "      <td>948</td>\n",
       "      <td>NaN</td>\n",
       "      <td>NaN</td>\n",
       "      <td>NaN</td>\n",
       "      <td>1378.87</td>\n",
       "      <td>636.011</td>\n",
       "      <td>5</td>\n",
       "      <td>903</td>\n",
       "      <td>1428</td>\n",
       "      <td>1901</td>\n",
       "      <td>2486</td>\n",
       "    </tr>\n",
       "    <tr>\n",
       "      <th>company</th>\n",
       "      <td>948</td>\n",
       "      <td>211</td>\n",
       "      <td>Arete</td>\n",
       "      <td>32</td>\n",
       "      <td>NaN</td>\n",
       "      <td>NaN</td>\n",
       "      <td>NaN</td>\n",
       "      <td>NaN</td>\n",
       "      <td>NaN</td>\n",
       "      <td>NaN</td>\n",
       "      <td>NaN</td>\n",
       "    </tr>\n",
       "    <tr>\n",
       "      <th>company_location</th>\n",
       "      <td>948</td>\n",
       "      <td>1</td>\n",
       "      <td>U.S.A</td>\n",
       "      <td>948</td>\n",
       "      <td>NaN</td>\n",
       "      <td>NaN</td>\n",
       "      <td>NaN</td>\n",
       "      <td>NaN</td>\n",
       "      <td>NaN</td>\n",
       "      <td>NaN</td>\n",
       "      <td>NaN</td>\n",
       "    </tr>\n",
       "    <tr>\n",
       "      <th>review_date</th>\n",
       "      <td>948</td>\n",
       "      <td>NaN</td>\n",
       "      <td>NaN</td>\n",
       "      <td>NaN</td>\n",
       "      <td>2014.11</td>\n",
       "      <td>3.23453</td>\n",
       "      <td>2006</td>\n",
       "      <td>2012</td>\n",
       "      <td>2014</td>\n",
       "      <td>2016</td>\n",
       "      <td>2020</td>\n",
       "    </tr>\n",
       "    <tr>\n",
       "      <th>country_of_bean_origin</th>\n",
       "      <td>948</td>\n",
       "      <td>39</td>\n",
       "      <td>Dominican republic</td>\n",
       "      <td>134</td>\n",
       "      <td>NaN</td>\n",
       "      <td>NaN</td>\n",
       "      <td>NaN</td>\n",
       "      <td>NaN</td>\n",
       "      <td>NaN</td>\n",
       "      <td>NaN</td>\n",
       "      <td>NaN</td>\n",
       "    </tr>\n",
       "    <tr>\n",
       "      <th>specific_bean_origin_or_bar_name</th>\n",
       "      <td>948</td>\n",
       "      <td>632</td>\n",
       "      <td>Dominican Republic</td>\n",
       "      <td>25</td>\n",
       "      <td>NaN</td>\n",
       "      <td>NaN</td>\n",
       "      <td>NaN</td>\n",
       "      <td>NaN</td>\n",
       "      <td>NaN</td>\n",
       "      <td>NaN</td>\n",
       "      <td>NaN</td>\n",
       "    </tr>\n",
       "    <tr>\n",
       "      <th>cocoa_percent</th>\n",
       "      <td>948</td>\n",
       "      <td>NaN</td>\n",
       "      <td>NaN</td>\n",
       "      <td>NaN</td>\n",
       "      <td>71.5364</td>\n",
       "      <td>4.73996</td>\n",
       "      <td>55</td>\n",
       "      <td>70</td>\n",
       "      <td>70</td>\n",
       "      <td>74</td>\n",
       "      <td>91</td>\n",
       "    </tr>\n",
       "    <tr>\n",
       "      <th>counts_of_ingredients</th>\n",
       "      <td>948</td>\n",
       "      <td>NaN</td>\n",
       "      <td>NaN</td>\n",
       "      <td>NaN</td>\n",
       "      <td>2.87658</td>\n",
       "      <td>0.917137</td>\n",
       "      <td>2</td>\n",
       "      <td>2</td>\n",
       "      <td>3</td>\n",
       "      <td>3</td>\n",
       "      <td>5</td>\n",
       "    </tr>\n",
       "    <tr>\n",
       "      <th>beans</th>\n",
       "      <td>948</td>\n",
       "      <td>1</td>\n",
       "      <td>have_bean</td>\n",
       "      <td>948</td>\n",
       "      <td>NaN</td>\n",
       "      <td>NaN</td>\n",
       "      <td>NaN</td>\n",
       "      <td>NaN</td>\n",
       "      <td>NaN</td>\n",
       "      <td>NaN</td>\n",
       "      <td>NaN</td>\n",
       "    </tr>\n",
       "    <tr>\n",
       "      <th>cocoa_butter</th>\n",
       "      <td>948</td>\n",
       "      <td>2</td>\n",
       "      <td>have_cocoa_butter</td>\n",
       "      <td>553</td>\n",
       "      <td>NaN</td>\n",
       "      <td>NaN</td>\n",
       "      <td>NaN</td>\n",
       "      <td>NaN</td>\n",
       "      <td>NaN</td>\n",
       "      <td>NaN</td>\n",
       "      <td>NaN</td>\n",
       "    </tr>\n",
       "    <tr>\n",
       "      <th>vanilla</th>\n",
       "      <td>948</td>\n",
       "      <td>2</td>\n",
       "      <td>have_not_vanila</td>\n",
       "      <td>785</td>\n",
       "      <td>NaN</td>\n",
       "      <td>NaN</td>\n",
       "      <td>NaN</td>\n",
       "      <td>NaN</td>\n",
       "      <td>NaN</td>\n",
       "      <td>NaN</td>\n",
       "      <td>NaN</td>\n",
       "    </tr>\n",
       "    <tr>\n",
       "      <th>lecithin</th>\n",
       "      <td>948</td>\n",
       "      <td>2</td>\n",
       "      <td>have_not_lecithin</td>\n",
       "      <td>842</td>\n",
       "      <td>NaN</td>\n",
       "      <td>NaN</td>\n",
       "      <td>NaN</td>\n",
       "      <td>NaN</td>\n",
       "      <td>NaN</td>\n",
       "      <td>NaN</td>\n",
       "      <td>NaN</td>\n",
       "    </tr>\n",
       "    <tr>\n",
       "      <th>salt</th>\n",
       "      <td>948</td>\n",
       "      <td>2</td>\n",
       "      <td>have_not_salt</td>\n",
       "      <td>939</td>\n",
       "      <td>NaN</td>\n",
       "      <td>NaN</td>\n",
       "      <td>NaN</td>\n",
       "      <td>NaN</td>\n",
       "      <td>NaN</td>\n",
       "      <td>NaN</td>\n",
       "      <td>NaN</td>\n",
       "    </tr>\n",
       "    <tr>\n",
       "      <th>sugar</th>\n",
       "      <td>948</td>\n",
       "      <td>2</td>\n",
       "      <td>have_sugar</td>\n",
       "      <td>913</td>\n",
       "      <td>NaN</td>\n",
       "      <td>NaN</td>\n",
       "      <td>NaN</td>\n",
       "      <td>NaN</td>\n",
       "      <td>NaN</td>\n",
       "      <td>NaN</td>\n",
       "      <td>NaN</td>\n",
       "    </tr>\n",
       "    <tr>\n",
       "      <th>sweetener_without_sugar</th>\n",
       "      <td>948</td>\n",
       "      <td>2</td>\n",
       "      <td>have_not_sweetener_without_sugar</td>\n",
       "      <td>913</td>\n",
       "      <td>NaN</td>\n",
       "      <td>NaN</td>\n",
       "      <td>NaN</td>\n",
       "      <td>NaN</td>\n",
       "      <td>NaN</td>\n",
       "      <td>NaN</td>\n",
       "      <td>NaN</td>\n",
       "    </tr>\n",
       "    <tr>\n",
       "      <th>first_taste</th>\n",
       "      <td>948</td>\n",
       "      <td>267</td>\n",
       "      <td>creamy</td>\n",
       "      <td>50</td>\n",
       "      <td>NaN</td>\n",
       "      <td>NaN</td>\n",
       "      <td>NaN</td>\n",
       "      <td>NaN</td>\n",
       "      <td>NaN</td>\n",
       "      <td>NaN</td>\n",
       "      <td>NaN</td>\n",
       "    </tr>\n",
       "    <tr>\n",
       "      <th>second_taste</th>\n",
       "      <td>918</td>\n",
       "      <td>292</td>\n",
       "      <td>sweet</td>\n",
       "      <td>51</td>\n",
       "      <td>NaN</td>\n",
       "      <td>NaN</td>\n",
       "      <td>NaN</td>\n",
       "      <td>NaN</td>\n",
       "      <td>NaN</td>\n",
       "      <td>NaN</td>\n",
       "      <td>NaN</td>\n",
       "    </tr>\n",
       "    <tr>\n",
       "      <th>third_taste</th>\n",
       "      <td>691</td>\n",
       "      <td>199</td>\n",
       "      <td>cocoa</td>\n",
       "      <td>31</td>\n",
       "      <td>NaN</td>\n",
       "      <td>NaN</td>\n",
       "      <td>NaN</td>\n",
       "      <td>NaN</td>\n",
       "      <td>NaN</td>\n",
       "      <td>NaN</td>\n",
       "      <td>NaN</td>\n",
       "    </tr>\n",
       "    <tr>\n",
       "      <th>fourth_taste</th>\n",
       "      <td>102</td>\n",
       "      <td>51</td>\n",
       "      <td>roasty</td>\n",
       "      <td>8</td>\n",
       "      <td>NaN</td>\n",
       "      <td>NaN</td>\n",
       "      <td>NaN</td>\n",
       "      <td>NaN</td>\n",
       "      <td>NaN</td>\n",
       "      <td>NaN</td>\n",
       "      <td>NaN</td>\n",
       "    </tr>\n",
       "    <tr>\n",
       "      <th>rating</th>\n",
       "      <td>948</td>\n",
       "      <td>2</td>\n",
       "      <td>high</td>\n",
       "      <td>717</td>\n",
       "      <td>NaN</td>\n",
       "      <td>NaN</td>\n",
       "      <td>NaN</td>\n",
       "      <td>NaN</td>\n",
       "      <td>NaN</td>\n",
       "      <td>NaN</td>\n",
       "      <td>NaN</td>\n",
       "    </tr>\n",
       "    <tr>\n",
       "      <th>value_rating</th>\n",
       "      <td>948</td>\n",
       "      <td>NaN</td>\n",
       "      <td>NaN</td>\n",
       "      <td>NaN</td>\n",
       "      <td>3.1759</td>\n",
       "      <td>0.431846</td>\n",
       "      <td>1.5</td>\n",
       "      <td>3</td>\n",
       "      <td>3.25</td>\n",
       "      <td>3.5</td>\n",
       "      <td>4</td>\n",
       "    </tr>\n",
       "  </tbody>\n",
       "</table>\n",
       "</div>"
      ],
      "text/plain": [
       "                                 count unique  \\\n",
       "Index                              948    NaN   \n",
       "ref                                948    NaN   \n",
       "company                            948    211   \n",
       "company_location                   948      1   \n",
       "review_date                        948    NaN   \n",
       "country_of_bean_origin             948     39   \n",
       "specific_bean_origin_or_bar_name   948    632   \n",
       "cocoa_percent                      948    NaN   \n",
       "counts_of_ingredients              948    NaN   \n",
       "beans                              948      1   \n",
       "cocoa_butter                       948      2   \n",
       "vanilla                            948      2   \n",
       "lecithin                           948      2   \n",
       "salt                               948      2   \n",
       "sugar                              948      2   \n",
       "sweetener_without_sugar            948      2   \n",
       "first_taste                        948    267   \n",
       "second_taste                       918    292   \n",
       "third_taste                        691    199   \n",
       "fourth_taste                       102     51   \n",
       "rating                             948      2   \n",
       "value_rating                       948    NaN   \n",
       "\n",
       "                                                               top freq  \\\n",
       "Index                                                          NaN  NaN   \n",
       "ref                                                            NaN  NaN   \n",
       "company                                                      Arete   32   \n",
       "company_location                                             U.S.A  948   \n",
       "review_date                                                    NaN  NaN   \n",
       "country_of_bean_origin                          Dominican republic  134   \n",
       "specific_bean_origin_or_bar_name                Dominican Republic   25   \n",
       "cocoa_percent                                                  NaN  NaN   \n",
       "counts_of_ingredients                                          NaN  NaN   \n",
       "beans                                                    have_bean  948   \n",
       "cocoa_butter                                     have_cocoa_butter  553   \n",
       "vanilla                                            have_not_vanila  785   \n",
       "lecithin                                         have_not_lecithin  842   \n",
       "salt                                                 have_not_salt  939   \n",
       "sugar                                                   have_sugar  913   \n",
       "sweetener_without_sugar           have_not_sweetener_without_sugar  913   \n",
       "first_taste                                                 creamy   50   \n",
       "second_taste                                                 sweet   51   \n",
       "third_taste                                                  cocoa   31   \n",
       "fourth_taste                                                roasty    8   \n",
       "rating                                                        high  717   \n",
       "value_rating                                                   NaN  NaN   \n",
       "\n",
       "                                     mean       std   min     25%    50%  \\\n",
       "Index                               474.5   273.808     1  237.75  474.5   \n",
       "ref                               1378.87   636.011     5     903   1428   \n",
       "company                               NaN       NaN   NaN     NaN    NaN   \n",
       "company_location                      NaN       NaN   NaN     NaN    NaN   \n",
       "review_date                       2014.11   3.23453  2006    2012   2014   \n",
       "country_of_bean_origin                NaN       NaN   NaN     NaN    NaN   \n",
       "specific_bean_origin_or_bar_name      NaN       NaN   NaN     NaN    NaN   \n",
       "cocoa_percent                     71.5364   4.73996    55      70     70   \n",
       "counts_of_ingredients             2.87658  0.917137     2       2      3   \n",
       "beans                                 NaN       NaN   NaN     NaN    NaN   \n",
       "cocoa_butter                          NaN       NaN   NaN     NaN    NaN   \n",
       "vanilla                               NaN       NaN   NaN     NaN    NaN   \n",
       "lecithin                              NaN       NaN   NaN     NaN    NaN   \n",
       "salt                                  NaN       NaN   NaN     NaN    NaN   \n",
       "sugar                                 NaN       NaN   NaN     NaN    NaN   \n",
       "sweetener_without_sugar               NaN       NaN   NaN     NaN    NaN   \n",
       "first_taste                           NaN       NaN   NaN     NaN    NaN   \n",
       "second_taste                          NaN       NaN   NaN     NaN    NaN   \n",
       "third_taste                           NaN       NaN   NaN     NaN    NaN   \n",
       "fourth_taste                          NaN       NaN   NaN     NaN    NaN   \n",
       "rating                                NaN       NaN   NaN     NaN    NaN   \n",
       "value_rating                       3.1759  0.431846   1.5       3   3.25   \n",
       "\n",
       "                                     75%   max  \n",
       "Index                             711.25   948  \n",
       "ref                                 1901  2486  \n",
       "company                              NaN   NaN  \n",
       "company_location                     NaN   NaN  \n",
       "review_date                         2016  2020  \n",
       "country_of_bean_origin               NaN   NaN  \n",
       "specific_bean_origin_or_bar_name     NaN   NaN  \n",
       "cocoa_percent                         74    91  \n",
       "counts_of_ingredients                  3     5  \n",
       "beans                                NaN   NaN  \n",
       "cocoa_butter                         NaN   NaN  \n",
       "vanilla                              NaN   NaN  \n",
       "lecithin                             NaN   NaN  \n",
       "salt                                 NaN   NaN  \n",
       "sugar                                NaN   NaN  \n",
       "sweetener_without_sugar              NaN   NaN  \n",
       "first_taste                          NaN   NaN  \n",
       "second_taste                         NaN   NaN  \n",
       "third_taste                          NaN   NaN  \n",
       "fourth_taste                         NaN   NaN  \n",
       "rating                               NaN   NaN  \n",
       "value_rating                         3.5     4  "
      ]
     },
     "execution_count": 51,
     "metadata": {},
     "output_type": "execute_result"
    }
   ],
   "source": [
    "df.describe(include='all').transpose()"
   ]
  },
  {
   "cell_type": "code",
   "execution_count": 52,
   "metadata": {},
   "outputs": [],
   "source": [
    "# Basic observation is that:\n",
    "# Arete is the most popular chocolate company.\n",
    "# The bean origin of Dominican republic is well known.\n",
    "# flavors of cocoa_butter, no vanilla,no lecithin, no salt and with sugar is preferred\n",
    "# People also prefer first taste to be creamy and then sweet, followed by cocoa and finally roasty!"
   ]
  },
  {
   "cell_type": "code",
   "execution_count": 53,
   "metadata": {},
   "outputs": [
    {
     "data": {
      "text/plain": [
       "<matplotlib.axes._subplots.AxesSubplot at 0x2a3fdd1db20>"
      ]
     },
     "execution_count": 53,
     "metadata": {},
     "output_type": "execute_result"
    },
    {
     "data": {
      "image/png": "[encoded data removed]",
      "text/plain": [
       "<Figure size 720x432 with 1 Axes>"
      ]
     },
     "metadata": {
      "needs_background": "light"
     },
     "output_type": "display_data"
    }
   ],
   "source": [
    "plt.figure(figsize = (10,6))\n",
    "sns.distplot(df['value_rating'])"
   ]
  },
  {
   "cell_type": "code",
   "execution_count": 54,
   "metadata": {},
   "outputs": [
    {
     "name": "stdout",
     "output_type": "stream",
     "text": [
      "<class 'pandas.core.frame.DataFrame'>\n",
      "RangeIndex: 948 entries, 0 to 947\n",
      "Data columns (total 22 columns):\n",
      " #   Column                            Non-Null Count  Dtype  \n",
      "---  ------                            --------------  -----  \n",
      " 0   Index                             948 non-null    int64  \n",
      " 1   ref                               948 non-null    int64  \n",
      " 2   company                           948 non-null    object \n",
      " 3   company_location                  948 non-null    object \n",
      " 4   review_date                       948 non-null    int64  \n",
      " 5   country_of_bean_origin            948 non-null    object \n",
      " 6   specific_bean_origin_or_bar_name  948 non-null    object \n",
      " 7   cocoa_percent                     948 non-null    float64\n",
      " 8   counts_of_ingredients             948 non-null    int64  \n",
      " 9   beans                             948 non-null    object \n",
      " 10  cocoa_butter                      948 non-null    object \n",
      " 11  vanilla                           948 non-null    object \n",
      " 12  lecithin                          948 non-null    object \n",
      " 13  salt                              948 non-null    object \n",
      " 14  sugar                             948 non-null    object \n",
      " 15  sweetener_without_sugar           948 non-null    object \n",
      " 16  first_taste                       948 non-null    object \n",
      " 17  second_taste                      918 non-null    object \n",
      " 18  third_taste                       691 non-null    object \n",
      " 19  fourth_taste                      102 non-null    object \n",
      " 20  rating                            948 non-null    object \n",
      " 21  value_rating                      948 non-null    float64\n",
      "dtypes: float64(2), int64(4), object(16)\n",
      "memory usage: 163.1+ KB\n"
     ]
    }
   ],
   "source": [
    "df.info()"
   ]
  },
  {
   "cell_type": "code",
   "execution_count": 55,
   "metadata": {},
   "outputs": [
    {
     "data": {
      "text/plain": [
       "Text(0.5, 1.0, 'Type of our data')"
      ]
     },
     "execution_count": 55,
     "metadata": {},
     "output_type": "execute_result"
    },
    {
     "data": {
      "image/png": "[encoded data removed]",
      "text/plain": [
       "<Figure size 576x576 with 1 Axes>"
      ]
     },
     "metadata": {},
     "output_type": "display_data"
    }
   ],
   "source": [
    "df.dtypes.value_counts().plot.pie(explode = [0.1,0.1,0.1], shadow = True)\n",
    "plt.title('Type of our data')"
   ]
  },
  {
   "cell_type": "code",
   "execution_count": 56,
   "metadata": {},
   "outputs": [
    {
     "data": {
      "text/plain": [
       "Index                                 0\n",
       "ref                                   0\n",
       "company                               0\n",
       "company_location                      0\n",
       "review_date                           0\n",
       "country_of_bean_origin                0\n",
       "specific_bean_origin_or_bar_name      0\n",
       "cocoa_percent                         0\n",
       "counts_of_ingredients                 0\n",
       "beans                                 0\n",
       "cocoa_butter                          0\n",
       "vanilla                               0\n",
       "lecithin                              0\n",
       "salt                                  0\n",
       "sugar                                 0\n",
       "sweetener_without_sugar               0\n",
       "first_taste                           0\n",
       "second_taste                         30\n",
       "third_taste                         257\n",
       "fourth_taste                        846\n",
       "rating                                0\n",
       "value_rating                          0\n",
       "dtype: int64"
      ]
     },
     "execution_count": 56,
     "metadata": {},
     "output_type": "execute_result"
    }
   ],
   "source": [
    "# Finding the missing values:\n",
    "missingvalues = df.isnull().sum()\n",
    "missingvalues"
   ]
  },
  {
   "cell_type": "code",
   "execution_count": 57,
   "metadata": {},
   "outputs": [],
   "source": [
    "# We notice that other than the second,third and fourth taste,no other data is missing; which is good news!\n",
    "# fourth_taste is missing nearly 90% of the data as seen, so we are going to drop this column."
   ]
  },
  {
   "cell_type": "code",
   "execution_count": 58,
   "metadata": {},
   "outputs": [
    {
     "data": {
      "text/plain": [
       "948"
      ]
     },
     "execution_count": 58,
     "metadata": {},
     "output_type": "execute_result"
    }
   ],
   "source": [
    "df.beans.value_counts().have_bean # as all of the 948 rows are having bean in Beans column,/\n",
    "                                     # there is no point in including it in our analysis"
   ]
  },
  {
   "cell_type": "code",
   "execution_count": 59,
   "metadata": {},
   "outputs": [
    {
     "data": {
      "text/plain": [
       "counts_of_ingredients   -0.143760\n",
       "Index                   -0.114572\n",
       "cocoa_percent           -0.018155\n",
       "review_date              0.116612\n",
       "ref                      0.117861\n",
       "value_rating             1.000000\n",
       "Name: value_rating, dtype: float64"
      ]
     },
     "execution_count": 59,
     "metadata": {},
     "output_type": "execute_result"
    }
   ],
   "source": [
    "# For comparing the label 'rating' with some other feature, which might have high correlation\n",
    "df.corr()['value_rating'].sort_values()"
   ]
  },
  {
   "cell_type": "code",
   "execution_count": 60,
   "metadata": {},
   "outputs": [],
   "source": [
    "# We see that none of the features is having high correlation with the Price label. "
   ]
  },
  {
   "cell_type": "code",
   "execution_count": 61,
   "metadata": {},
   "outputs": [
    {
     "data": {
      "text/plain": [
       "array([3, 2, 4, 5], dtype=int64)"
      ]
     },
     "execution_count": 61,
     "metadata": {},
     "output_type": "execute_result"
    }
   ],
   "source": [
    "df['counts_of_ingredients'].unique()"
   ]
  },
  {
   "cell_type": "code",
   "execution_count": 69,
   "metadata": {},
   "outputs": [
    {
     "data": {
      "image/png": "[encoded data removed]",
      "text/plain": [
       "<Figure size 576x576 with 1 Axes>"
      ]
     },
     "metadata": {},
     "output_type": "display_data"
    }
   ],
   "source": [
    "size = df.counts_of_ingredients.value_counts()\n",
    "explode = [0.1,0.1, 0.1,0.1]\n",
    "labels= [2, 3, 4, 5]\n",
    "\n",
    "# plt.rcParams['figure.figsize'] = (8, 8)\n",
    "plt.pie(size, explode = explode ,labels = labels, autopct = '%.2f%%', shadow = True)\n",
    "plt.title('Pie chart representing the count_of_ingredients preferred')\n",
    "plt.legend(loc = 0)\n",
    "plt.axis('off')\n",
    "plt.show()\n",
    "# Pieplot below shows that customers prefer count of ingredients in the chocolate bar between 2 or 3 80% of the time.\n",
    "# More than 3 counts are seldom preferred."
   ]
  },
  {
   "cell_type": "code",
   "execution_count": 70,
   "metadata": {},
   "outputs": [
    {
     "data": {
      "text/plain": [
       "Text(0.5, 1.0, 'Salt in the chocolate')"
      ]
     },
     "execution_count": 70,
     "metadata": {},
     "output_type": "execute_result"
    },
    {
     "data": {
      "image/png": "[encoded data removed]",
      "text/plain": [
       "<Figure size 576x576 with 1 Axes>"
      ]
     },
     "metadata": {
      "needs_background": "light"
     },
     "output_type": "display_data"
    }
   ],
   "source": [
    "sns.boxplot( x = df.salt, y = df.value_rating)\n",
    "plt.title( 'Salt in the chocolate')\n",
    "\n",
    "# We see that the average number of customers have chosen not to have salt in their chocolate bar.\n",
    "# The chocolates without salt have got average rating between 3 - 3.5."
   ]
  },
  {
   "cell_type": "code",
   "execution_count": 71,
   "metadata": {},
   "outputs": [
    {
     "data": {
      "text/plain": [
       "<matplotlib.axes._subplots.AxesSubplot at 0x2a3ff1e6bb0>"
      ]
     },
     "execution_count": 71,
     "metadata": {},
     "output_type": "execute_result"
    },
    {
     "data": {
      "image/png": "[encoded data removed]",
      "text/plain": [
       "<Figure size 576x576 with 1 Axes>"
      ]
     },
     "metadata": {
      "needs_background": "light"
     },
     "output_type": "display_data"
    }
   ],
   "source": [
    "sns.countplot( x = 'vanilla', data =df)\n",
    "#countplot shows count of the vanilla feature and we see that the vanilla is not preferred by almost many of the customers"
   ]
  },
  {
   "cell_type": "code",
   "execution_count": 73,
   "metadata": {},
   "outputs": [
    {
     "data": {
      "text/plain": [
       "Text(0.5, 1.0, 'cocoa_butter in the chocolate')"
      ]
     },
     "execution_count": 73,
     "metadata": {},
     "output_type": "execute_result"
    },
    {
     "data": {
      "image/png": "[encoded data removed]",
      "text/plain": [
       "<Figure size 576x576 with 1 Axes>"
      ]
     },
     "metadata": {
      "needs_background": "light"
     },
     "output_type": "display_data"
    }
   ],
   "source": [
    "sns.countplot( x = df.cocoa_butter)\n",
    "plt.title( 'cocoa_butter in the chocolate')\n",
    "# From the plot, we see that:  having cocoa butter in the chocolate is slightly much preferred than without one."
   ]
  },
  {
   "cell_type": "code",
   "execution_count": 75,
   "metadata": {},
   "outputs": [
    {
     "data": {
      "text/plain": [
       "<matplotlib.axes._subplots.AxesSubplot at 0x2a3ff3edbe0>"
      ]
     },
     "execution_count": 75,
     "metadata": {},
     "output_type": "execute_result"
    },
    {
     "data": {
      "image/png": "[encoded data removed]",
      "text/plain": [
       "<Figure size 576x576 with 1 Axes>"
      ]
     },
     "metadata": {
      "needs_background": "light"
     },
     "output_type": "display_data"
    }
   ],
   "source": [
    "sns.violinplot( x = 'sugar', y = 'value_rating', data =df  ,split =True) \n",
    "# As we can see from the plot below, the highest rating of 3.5 isgiven  from customers when there is sugar in the chocolate bar.\n",
    "# when the sugar is not present, the highest possible rating os 3"
   ]
  },
  {
   "cell_type": "markdown",
   "metadata": {},
   "source": [
    "### FEATURE ENGINEERING"
   ]
  },
  {
   "cell_type": "code",
   "execution_count": 77,
   "metadata": {},
   "outputs": [
    {
     "data": {
      "text/plain": [
       "sweet             51\n",
       "earthy            32\n",
       "nutty             29\n",
       "cocoa             26\n",
       "floral            24\n",
       "                  ..\n",
       "mellow             1\n",
       "almost burnt       1\n",
       "distinct           1\n",
       "tart red berry     1\n",
       "mild vanilla       1\n",
       "Name: second_taste, Length: 292, dtype: int64"
      ]
     },
     "execution_count": 77,
     "metadata": {},
     "output_type": "execute_result"
    }
   ],
   "source": [
    "# second_taste\n",
    "df.second_taste.value_counts()"
   ]
  },
  {
   "cell_type": "code",
   "execution_count": 78,
   "metadata": {},
   "outputs": [
    {
     "data": {
      "text/plain": [
       "count       918\n",
       "unique      292\n",
       "top       sweet\n",
       "freq         51\n",
       "Name: second_taste, dtype: object"
      ]
     },
     "execution_count": 78,
     "metadata": {},
     "output_type": "execute_result"
    }
   ],
   "source": [
    "df.second_taste.describe()"
   ]
  },
  {
   "cell_type": "code",
   "execution_count": 79,
   "metadata": {},
   "outputs": [
    {
     "data": {
      "text/plain": [
       "Index                                 0\n",
       "ref                                   0\n",
       "company                               0\n",
       "company_location                      0\n",
       "review_date                           0\n",
       "country_of_bean_origin                0\n",
       "specific_bean_origin_or_bar_name      0\n",
       "cocoa_percent                         0\n",
       "counts_of_ingredients                 0\n",
       "beans                                 0\n",
       "cocoa_butter                          0\n",
       "vanilla                               0\n",
       "lecithin                              0\n",
       "salt                                  0\n",
       "sugar                                 0\n",
       "sweetener_without_sugar               0\n",
       "first_taste                           0\n",
       "second_taste                         30\n",
       "third_taste                         257\n",
       "fourth_taste                        846\n",
       "rating                                0\n",
       "value_rating                          0\n",
       "dtype: int64"
      ]
     },
     "execution_count": 79,
     "metadata": {},
     "output_type": "execute_result"
    }
   ],
   "source": [
    "df.isnull().sum()"
   ]
  },
  {
   "cell_type": "code",
   "execution_count": 80,
   "metadata": {},
   "outputs": [
    {
     "data": {
      "text/plain": [
       "0"
      ]
     },
     "execution_count": 80,
     "metadata": {},
     "output_type": "execute_result"
    }
   ],
   "source": [
    "# Replace null values using top value of describe\n",
    "df['second_taste'].fillna('sweet', inplace = True)\n",
    "df.second_taste.isnull().sum() #checking"
   ]
  },
  {
   "cell_type": "code",
   "execution_count": 81,
   "metadata": {},
   "outputs": [
    {
     "data": {
      "text/plain": [
       "Index                                 0\n",
       "ref                                   0\n",
       "company                               0\n",
       "company_location                      0\n",
       "review_date                           0\n",
       "country_of_bean_origin                0\n",
       "specific_bean_origin_or_bar_name      0\n",
       "cocoa_percent                         0\n",
       "counts_of_ingredients                 0\n",
       "beans                                 0\n",
       "cocoa_butter                          0\n",
       "vanilla                               0\n",
       "lecithin                              0\n",
       "salt                                  0\n",
       "sugar                                 0\n",
       "sweetener_without_sugar               0\n",
       "first_taste                           0\n",
       "second_taste                          0\n",
       "third_taste                         257\n",
       "fourth_taste                        846\n",
       "rating                                0\n",
       "value_rating                          0\n",
       "dtype: int64"
      ]
     },
     "execution_count": 81,
     "metadata": {},
     "output_type": "execute_result"
    }
   ],
   "source": [
    "df.isnull().sum()"
   ]
  },
  {
   "cell_type": "code",
   "execution_count": 82,
   "metadata": {},
   "outputs": [],
   "source": [
    "# Something we can drop right away is : Index, ref, company, company_location, review_date,beans,country_of_bean_origin,specific_bean_origin_or_bar_name\n",
    "df = df.drop('Index', axis =1)\n",
    "df = df.drop('ref', axis =1)\n",
    "df = df.drop('company', axis =1)\n",
    "df = df.drop('company_location', axis =1)\n",
    "df = df.drop('review_date', axis =1)\n",
    "df = df.drop('beans', axis =1)\n",
    "df = df.drop('country_of_bean_origin', axis =1)\n",
    "df = df.drop('specific_bean_origin_or_bar_name', axis =1)"
   ]
  },
  {
   "cell_type": "code",
   "execution_count": 83,
   "metadata": {},
   "outputs": [],
   "source": [
    "# Drop the third and fourth_taste as too many missing values:\n",
    "df = df.drop('third_taste', axis =1)\n",
    "df = df.drop('fourth_taste', axis= 1)"
   ]
  },
  {
   "cell_type": "code",
   "execution_count": 94,
   "metadata": {},
   "outputs": [
    {
     "data": {
      "text/html": [
       "<div>\n",
       "<style scoped>\n",
       "    .dataframe tbody tr th:only-of-type {\n",
       "        vertical-align: middle;\n",
       "    }\n",
       "\n",
       "    .dataframe tbody tr th {\n",
       "        vertical-align: top;\n",
       "    }\n",
       "\n",
       "    .dataframe thead th {\n",
       "        text-align: right;\n",
       "    }\n",
       "</style>\n",
       "<table border=\"1\" class=\"dataframe\">\n",
       "  <thead>\n",
       "    <tr style=\"text-align: right;\">\n",
       "      <th></th>\n",
       "      <th>cocoa_percent</th>\n",
       "      <th>counts_of_ingredients</th>\n",
       "      <th>cocoa_butter</th>\n",
       "      <th>vanilla</th>\n",
       "      <th>lecithin</th>\n",
       "      <th>salt</th>\n",
       "      <th>sugar</th>\n",
       "      <th>sweetener_without_sugar</th>\n",
       "      <th>first_taste</th>\n",
       "      <th>second_taste</th>\n",
       "      <th>rating</th>\n",
       "      <th>value_rating</th>\n",
       "    </tr>\n",
       "  </thead>\n",
       "  <tbody>\n",
       "    <tr>\n",
       "      <th>0</th>\n",
       "      <td>75.0</td>\n",
       "      <td>3</td>\n",
       "      <td>have_cocoa_butter</td>\n",
       "      <td>have_not_vanila</td>\n",
       "      <td>have_not_lecithin</td>\n",
       "      <td>have_not_salt</td>\n",
       "      <td>have_sugar</td>\n",
       "      <td>have_not_sweetener_without_sugar</td>\n",
       "      <td>roasty</td>\n",
       "      <td>hammy</td>\n",
       "      <td>high</td>\n",
       "      <td>3.00</td>\n",
       "    </tr>\n",
       "    <tr>\n",
       "      <th>1</th>\n",
       "      <td>70.0</td>\n",
       "      <td>3</td>\n",
       "      <td>have_cocoa_butter</td>\n",
       "      <td>have_not_vanila</td>\n",
       "      <td>have_not_lecithin</td>\n",
       "      <td>have_not_salt</td>\n",
       "      <td>have_sugar</td>\n",
       "      <td>have_not_sweetener_without_sugar</td>\n",
       "      <td>spicy</td>\n",
       "      <td>cocoa</td>\n",
       "      <td>high</td>\n",
       "      <td>3.25</td>\n",
       "    </tr>\n",
       "    <tr>\n",
       "      <th>2</th>\n",
       "      <td>70.0</td>\n",
       "      <td>3</td>\n",
       "      <td>have_cocoa_butter</td>\n",
       "      <td>have_not_vanila</td>\n",
       "      <td>have_not_lecithin</td>\n",
       "      <td>have_not_salt</td>\n",
       "      <td>have_sugar</td>\n",
       "      <td>have_not_sweetener_without_sugar</td>\n",
       "      <td>cocoa</td>\n",
       "      <td>nut</td>\n",
       "      <td>high</td>\n",
       "      <td>3.00</td>\n",
       "    </tr>\n",
       "    <tr>\n",
       "      <th>3</th>\n",
       "      <td>65.0</td>\n",
       "      <td>3</td>\n",
       "      <td>have_cocoa_butter</td>\n",
       "      <td>have_not_vanila</td>\n",
       "      <td>have_not_lecithin</td>\n",
       "      <td>have_not_salt</td>\n",
       "      <td>have_sugar</td>\n",
       "      <td>have_not_sweetener_without_sugar</td>\n",
       "      <td>sweet edge</td>\n",
       "      <td>sour fruit</td>\n",
       "      <td>high</td>\n",
       "      <td>3.25</td>\n",
       "    </tr>\n",
       "    <tr>\n",
       "      <th>4</th>\n",
       "      <td>70.0</td>\n",
       "      <td>3</td>\n",
       "      <td>have_cocoa_butter</td>\n",
       "      <td>have_not_vanila</td>\n",
       "      <td>have_not_lecithin</td>\n",
       "      <td>have_not_salt</td>\n",
       "      <td>have_sugar</td>\n",
       "      <td>have_not_sweetener_without_sugar</td>\n",
       "      <td>nutty</td>\n",
       "      <td>cheese</td>\n",
       "      <td>high</td>\n",
       "      <td>3.00</td>\n",
       "    </tr>\n",
       "    <tr>\n",
       "      <th>...</th>\n",
       "      <td>...</td>\n",
       "      <td>...</td>\n",
       "      <td>...</td>\n",
       "      <td>...</td>\n",
       "      <td>...</td>\n",
       "      <td>...</td>\n",
       "      <td>...</td>\n",
       "      <td>...</td>\n",
       "      <td>...</td>\n",
       "      <td>...</td>\n",
       "      <td>...</td>\n",
       "      <td>...</td>\n",
       "    </tr>\n",
       "    <tr>\n",
       "      <th>943</th>\n",
       "      <td>60.0</td>\n",
       "      <td>5</td>\n",
       "      <td>have_cocoa_butter</td>\n",
       "      <td>have_vanila</td>\n",
       "      <td>have_lecithin</td>\n",
       "      <td>have_not_salt</td>\n",
       "      <td>have_sugar</td>\n",
       "      <td>have_not_sweetener_without_sugar</td>\n",
       "      <td>muddy</td>\n",
       "      <td>pastey</td>\n",
       "      <td>high</td>\n",
       "      <td>3.00</td>\n",
       "    </tr>\n",
       "    <tr>\n",
       "      <th>944</th>\n",
       "      <td>65.0</td>\n",
       "      <td>5</td>\n",
       "      <td>have_cocoa_butter</td>\n",
       "      <td>have_vanila</td>\n",
       "      <td>have_lecithin</td>\n",
       "      <td>have_not_salt</td>\n",
       "      <td>have_sugar</td>\n",
       "      <td>have_not_sweetener_without_sugar</td>\n",
       "      <td>creamy</td>\n",
       "      <td>sweet</td>\n",
       "      <td>high</td>\n",
       "      <td>3.00</td>\n",
       "    </tr>\n",
       "    <tr>\n",
       "      <th>945</th>\n",
       "      <td>70.0</td>\n",
       "      <td>5</td>\n",
       "      <td>have_cocoa_butter</td>\n",
       "      <td>have_vanila</td>\n",
       "      <td>have_lecithin</td>\n",
       "      <td>have_not_salt</td>\n",
       "      <td>have_sugar</td>\n",
       "      <td>have_not_sweetener_without_sugar</td>\n",
       "      <td>cherry</td>\n",
       "      <td>mild bitter</td>\n",
       "      <td>high</td>\n",
       "      <td>3.50</td>\n",
       "    </tr>\n",
       "    <tr>\n",
       "      <th>946</th>\n",
       "      <td>82.0</td>\n",
       "      <td>5</td>\n",
       "      <td>have_cocoa_butter</td>\n",
       "      <td>have_vanila</td>\n",
       "      <td>have_lecithin</td>\n",
       "      <td>have_not_salt</td>\n",
       "      <td>have_sugar</td>\n",
       "      <td>have_not_sweetener_without_sugar</td>\n",
       "      <td>dry</td>\n",
       "      <td>bitter</td>\n",
       "      <td>low</td>\n",
       "      <td>2.00</td>\n",
       "    </tr>\n",
       "    <tr>\n",
       "      <th>947</th>\n",
       "      <td>71.0</td>\n",
       "      <td>5</td>\n",
       "      <td>have_cocoa_butter</td>\n",
       "      <td>have_vanila</td>\n",
       "      <td>have_lecithin</td>\n",
       "      <td>have_not_salt</td>\n",
       "      <td>have_sugar</td>\n",
       "      <td>have_not_sweetener_without_sugar</td>\n",
       "      <td>gritty</td>\n",
       "      <td>unrefined</td>\n",
       "      <td>low</td>\n",
       "      <td>2.00</td>\n",
       "    </tr>\n",
       "  </tbody>\n",
       "</table>\n",
       "<p>948 rows × 12 columns</p>\n",
       "</div>"
      ],
      "text/plain": [
       "     cocoa_percent  counts_of_ingredients       cocoa_butter          vanilla  \\\n",
       "0             75.0                      3  have_cocoa_butter  have_not_vanila   \n",
       "1             70.0                      3  have_cocoa_butter  have_not_vanila   \n",
       "2             70.0                      3  have_cocoa_butter  have_not_vanila   \n",
       "3             65.0                      3  have_cocoa_butter  have_not_vanila   \n",
       "4             70.0                      3  have_cocoa_butter  have_not_vanila   \n",
       "..             ...                    ...                ...              ...   \n",
       "943           60.0                      5  have_cocoa_butter      have_vanila   \n",
       "944           65.0                      5  have_cocoa_butter      have_vanila   \n",
       "945           70.0                      5  have_cocoa_butter      have_vanila   \n",
       "946           82.0                      5  have_cocoa_butter      have_vanila   \n",
       "947           71.0                      5  have_cocoa_butter      have_vanila   \n",
       "\n",
       "              lecithin           salt       sugar  \\\n",
       "0    have_not_lecithin  have_not_salt  have_sugar   \n",
       "1    have_not_lecithin  have_not_salt  have_sugar   \n",
       "2    have_not_lecithin  have_not_salt  have_sugar   \n",
       "3    have_not_lecithin  have_not_salt  have_sugar   \n",
       "4    have_not_lecithin  have_not_salt  have_sugar   \n",
       "..                 ...            ...         ...   \n",
       "943      have_lecithin  have_not_salt  have_sugar   \n",
       "944      have_lecithin  have_not_salt  have_sugar   \n",
       "945      have_lecithin  have_not_salt  have_sugar   \n",
       "946      have_lecithin  have_not_salt  have_sugar   \n",
       "947      have_lecithin  have_not_salt  have_sugar   \n",
       "\n",
       "              sweetener_without_sugar first_taste second_taste rating  \\\n",
       "0    have_not_sweetener_without_sugar      roasty        hammy   high   \n",
       "1    have_not_sweetener_without_sugar       spicy        cocoa   high   \n",
       "2    have_not_sweetener_without_sugar       cocoa          nut   high   \n",
       "3    have_not_sweetener_without_sugar  sweet edge   sour fruit   high   \n",
       "4    have_not_sweetener_without_sugar       nutty       cheese   high   \n",
       "..                                ...         ...          ...    ...   \n",
       "943  have_not_sweetener_without_sugar       muddy       pastey   high   \n",
       "944  have_not_sweetener_without_sugar      creamy        sweet   high   \n",
       "945  have_not_sweetener_without_sugar      cherry  mild bitter   high   \n",
       "946  have_not_sweetener_without_sugar         dry       bitter    low   \n",
       "947  have_not_sweetener_without_sugar      gritty    unrefined    low   \n",
       "\n",
       "     value_rating  \n",
       "0            3.00  \n",
       "1            3.25  \n",
       "2            3.00  \n",
       "3            3.25  \n",
       "4            3.00  \n",
       "..            ...  \n",
       "943          3.00  \n",
       "944          3.00  \n",
       "945          3.50  \n",
       "946          2.00  \n",
       "947          2.00  \n",
       "\n",
       "[948 rows x 12 columns]"
      ]
     },
     "execution_count": 94,
     "metadata": {},
     "output_type": "execute_result"
    }
   ],
   "source": [
    "df"
   ]
  },
  {
   "cell_type": "markdown",
   "metadata": {},
   "source": [
    "### LABEL ENCODING"
   ]
  },
  {
   "cell_type": "code",
   "execution_count": 95,
   "metadata": {},
   "outputs": [
    {
     "data": {
      "text/plain": [
       "Index(['cocoa_percent', 'counts_of_ingredients', 'cocoa_butter', 'vanilla',\n",
       "       'lecithin', 'salt', 'sugar', 'sweetener_without_sugar', 'first_taste',\n",
       "       'second_taste', 'rating', 'value_rating'],\n",
       "      dtype='object')"
      ]
     },
     "execution_count": 95,
     "metadata": {},
     "output_type": "execute_result"
    }
   ],
   "source": [
    "df.columns"
   ]
  },
  {
   "cell_type": "code",
   "execution_count": 96,
   "metadata": {},
   "outputs": [],
   "source": [
    "cocoa_butter_dum = pd.get_dummies(df['cocoa_butter'])\n",
    "vanilla_dum = pd.get_dummies(df['vanilla'])\n",
    "lecithin_dum = pd.get_dummies(df['lecithin'])\n",
    "salt_dum = pd.get_dummies(df['salt'])\n",
    "sugar_dum =  pd.get_dummies(df['sugar'])\n",
    "sweetener_without_sugar_dum = pd.get_dummies(df['sweetener_without_sugar'])"
   ]
  },
  {
   "cell_type": "code",
   "execution_count": 97,
   "metadata": {},
   "outputs": [
    {
     "data": {
      "text/plain": [
       "Index(['cocoa_percent', 'counts_of_ingredients', 'cocoa_butter', 'vanilla',\n",
       "       'lecithin', 'salt', 'sugar', 'sweetener_without_sugar', 'first_taste',\n",
       "       'second_taste', 'rating', 'value_rating', 'have_cocoa_butter',\n",
       "       'have_not_cocoa_butter', 'have_not_vanila', 'have_vanila',\n",
       "       'have_lecithin', 'have_not_lecithin', 'have_not_salt', 'have_salt',\n",
       "       'have_not_sugar', 'have_sugar', 'have_not_sweetener_without_sugar',\n",
       "       'have_sweetener_without_sugar'],\n",
       "      dtype='object')"
      ]
     },
     "execution_count": 97,
     "metadata": {},
     "output_type": "execute_result"
    }
   ],
   "source": [
    "final_data= pd.concat([df, cocoa_butter_dum, vanilla_dum, lecithin_dum, salt_dum, sugar_dum, sweetener_without_sugar_dum], axis=1)\n",
    "final_data.columns\n"
   ]
  },
  {
   "cell_type": "code",
   "execution_count": 98,
   "metadata": {},
   "outputs": [
    {
     "data": {
      "text/plain": [
       "cocoa_percent                       float64\n",
       "counts_of_ingredients                 int64\n",
       "first_taste                          object\n",
       "second_taste                         object\n",
       "rating                               object\n",
       "have_cocoa_butter                     uint8\n",
       "have_not_cocoa_butter                 uint8\n",
       "have_not_vanila                       uint8\n",
       "have_vanila                           uint8\n",
       "have_lecithin                         uint8\n",
       "have_not_lecithin                     uint8\n",
       "have_not_salt                         uint8\n",
       "have_salt                             uint8\n",
       "have_not_sugar                        uint8\n",
       "have_sugar                            uint8\n",
       "have_not_sweetener_without_sugar      uint8\n",
       "have_sweetener_without_sugar          uint8\n",
       "dtype: object"
      ]
     },
     "execution_count": 98,
     "metadata": {},
     "output_type": "execute_result"
    }
   ],
   "source": [
    "final_data = final_data.drop(['cocoa_butter','vanilla', 'lecithin', 'salt', 'sugar', 'sweetener_without_sugar','value_rating'], axis = 1)\n",
    "final_data.dtypes"
   ]
  },
  {
   "cell_type": "code",
   "execution_count": 99,
   "metadata": {},
   "outputs": [],
   "source": [
    "# To perform sklearn we should convert all the categorical variables into numeric by encoding the categories:\n",
    "# This is done by using label encoder.\n",
    "\n",
    "cat = ['first_taste','second_taste']\n",
    "\n",
    "for var in cat:\n",
    "    le = preprocessing.LabelEncoder()\n",
    "    final_data[var] = le.fit_transform(final_data[var].astype('str'))"
   ]
  },
  {
   "cell_type": "markdown",
   "metadata": {},
   "source": [
    "---"
   ]
  },
  {
   "cell_type": "markdown",
   "metadata": {},
   "source": [
    "### SCALING FEATURES, CREATING AND TRAINING THE MODEL"
   ]
  },
  {
   "cell_type": "code",
   "execution_count": 100,
   "metadata": {},
   "outputs": [],
   "source": [
    "# Training the model:\n",
    "X = final_data.drop('rating', axis =1).values   # values returns the numpy array underneath the actual dataframes as tensorflow works with array as it cannot work with pandas series or dataframes\n",
    "y = final_data['rating'].values"
   ]
  },
  {
   "cell_type": "markdown",
   "metadata": {},
   "source": [
    "We will use one of the simple machine learning models, i.e. the logistic regression model, to predict the rating given by the customer. Logistic regression represents a very simple method for supervised learning and it is an effective tool for predicting qualitative responses. This model, like most of the supervised machine learning algorithms, makes a prediction based on the input features. The predicted output values are used for comparisons with desired outputs"
   ]
  },
  {
   "cell_type": "markdown",
   "metadata": {},
   "source": [
    "#### Splitting the data"
   ]
  },
  {
   "cell_type": "code",
   "execution_count": 102,
   "metadata": {},
   "outputs": [],
   "source": [
    "from sklearn.model_selection import train_test_split\n",
    "X_train, X_test, y_train, y_test = train_test_split(X, y, test_size = 0.3, random_state = 101)"
   ]
  },
  {
   "cell_type": "markdown",
   "metadata": {},
   "source": [
    "#### Feature Scaling"
   ]
  },
  {
   "cell_type": "code",
   "execution_count": 103,
   "metadata": {},
   "outputs": [],
   "source": [
    "# scaling should be done post split, as we want to apply only to the train set\n",
    "# so that to prevent data leakage from test set\n",
    "from sklearn.preprocessing import MinMaxScaler\n",
    "scaler = MinMaxScaler()"
   ]
  },
  {
   "cell_type": "code",
   "execution_count": 104,
   "metadata": {},
   "outputs": [],
   "source": [
    "X_train = scaler.fit_transform(X_train)\n",
    "# fitting and transforming "
   ]
  },
  {
   "cell_type": "code",
   "execution_count": 105,
   "metadata": {},
   "outputs": [],
   "source": [
    "# transform is done to test set\n",
    "X_test = scaler.transform(X_test)"
   ]
  },
  {
   "cell_type": "markdown",
   "metadata": {},
   "source": [
    "#### Logistic regression"
   ]
  },
  {
   "cell_type": "code",
   "execution_count": 106,
   "metadata": {},
   "outputs": [],
   "source": [
    "from sklearn.linear_model import LogisticRegression"
   ]
  },
  {
   "cell_type": "code",
   "execution_count": 107,
   "metadata": {},
   "outputs": [
    {
     "data": {
      "text/plain": [
       "LogisticRegression()"
      ]
     },
     "execution_count": 107,
     "metadata": {},
     "output_type": "execute_result"
    }
   ],
   "source": [
    "# Training and predicting:\n",
    "\n",
    "logmodel = LogisticRegression()\n",
    "logmodel.fit(X_train,y_train)"
   ]
  },
  {
   "cell_type": "code",
   "execution_count": 110,
   "metadata": {},
   "outputs": [
    {
     "name": "stdout",
     "output_type": "stream",
     "text": [
      "[1.33653633]\n",
      "[[-0.85178326 -0.16110585 -0.49645665 -0.49963583  0.08312739 -0.08297638\n",
      "   0.40342614 -0.40327513  0.30162566 -0.30147465  0.4649465  -0.46479549\n",
      "  -0.13256921  0.13272022  0.13272022 -0.13256921]]\n"
     ]
    }
   ],
   "source": [
    "print(logmodel.intercept_)\n",
    "print(logmodel.coef_)"
   ]
  },
  {
   "cell_type": "code",
   "execution_count": 119,
   "metadata": {},
   "outputs": [
    {
     "data": {
      "text/plain": [
       "(285,)"
      ]
     },
     "execution_count": 119,
     "metadata": {},
     "output_type": "execute_result"
    }
   ],
   "source": [
    "# Predicting the output:\n",
    "\n",
    "predictions = logmodel.predict(X_test)\n",
    "predictions.shape"
   ]
  },
  {
   "cell_type": "code",
   "execution_count": 120,
   "metadata": {},
   "outputs": [
    {
     "data": {
      "text/plain": [
       "(285,)"
      ]
     },
     "execution_count": 120,
     "metadata": {},
     "output_type": "execute_result"
    }
   ],
   "source": [
    "y_test.shape"
   ]
  },
  {
   "cell_type": "code",
   "execution_count": 127,
   "metadata": {},
   "outputs": [],
   "source": [
    "# Evaluation:\n",
    "\n",
    "from sklearn.metrics import classification_report"
   ]
  },
  {
   "cell_type": "code",
   "execution_count": 128,
   "metadata": {},
   "outputs": [
    {
     "name": "stdout",
     "output_type": "stream",
     "text": [
      "              precision    recall  f1-score   support\n",
      "\n",
      "         low       0.67      0.03      0.06        66\n",
      "        high       0.77      1.00      0.87       219\n",
      "\n",
      "    accuracy                           0.77       285\n",
      "   macro avg       0.72      0.51      0.46       285\n",
      "weighted avg       0.75      0.77      0.68       285\n",
      "\n"
     ]
    }
   ],
   "source": [
    "print(classification_report(y_test,predictions))"
   ]
  }
 ],
 "metadata": {
  "kernelspec": {
   "display_name": "Python 3",
   "language": "python",
   "name": "python3"
  },
  "language_info": {
   "codemirror_mode": {
    "name": "ipython",
    "version": 3
   },
   "file_extension": ".py",
   "mimetype": "text/x-python",
   "name": "python",
   "nbconvert_exporter": "python",
   "pygments_lexer": "ipython3",
   "version": "3.8.3"
  }
 },
 "nbformat": 4,
 "nbformat_minor": 4
}
